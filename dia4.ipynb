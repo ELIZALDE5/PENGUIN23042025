{
 "cells": [
  {
   "cell_type": "markdown",
   "id": "61d1a4c1",
   "metadata": {},
   "source": [
    "## CHALLENGE"
   ]
  },
  {
   "cell_type": "code",
   "execution_count": 67,
   "id": "e7b69be2",
   "metadata": {},
   "outputs": [
    {
     "name": "stdout",
     "output_type": "stream",
     "text": [
      " Lista de Diccionario\n",
      "{'nombre': 'ovidio'}\n",
      " Lista de Diccionario\n",
      "{'nombre': 'ovidio', 'NO': 'NO'}\n",
      "{'nombre': 'ovidio', 'NO': 'NO'}\n"
     ]
    }
   ],
   "source": [
    "# diccionario vacio\n",
    "\n",
    "mi_diccionario = {}\n",
    "\n",
    "# crear informacion que se le pida al usuario\n",
    "while True:\n",
    "    clave = input(\"¿Qué clave deseas agregar? (ej. 'nombre', 'edad'): \")\n",
    "    valor = input(\"Ingrese el valor para el diccionario\")\n",
    "\n",
    "    mi_diccionario[clave] = valor\n",
    "    print(\" Lista de Diccionario\")\n",
    "    print(mi_diccionario)\n",
    "\n",
    "    continuar = input(\"Deseas agregar mas datos? si o no...\").lower()\n",
    "    if continuar != \"si\" and continuar != \"si\":\n",
    "        break\n",
    "\n",
    "# imprimir cada vez que se vaya llenado\n",
    "print(mi_diccionario)\n",
    "\n",
    "\n",
    "\n"
   ]
  },
  {
   "cell_type": "code",
   "execution_count": 71,
   "id": "188555d3",
   "metadata": {},
   "outputs": [
    {
     "name": "stdout",
     "output_type": "stream",
     "text": [
      "\n",
      "--- Tarjeta Personal ---\n",
      "Nombre: ovidio\n",
      "Apellido: elizalde\n",
      "Edad: 13\n",
      "Dato 'nombre' modificado correctamente.\n",
      "\n",
      "--- Tarjeta Personal ---\n",
      "Nombre: raul\n",
      "Apellido: elizalde\n",
      "Edad: 13\n"
     ]
    }
   ],
   "source": [
    "tarjeta_personal = {}\n",
    "\n",
    "\n",
    "def crear_datos():\n",
    "    clave = input(\"Ingrese el nombre del dato a añadir (ej: 'nombre', 'teléfono'): \").lower()\n",
    "    valor = input(f\"Ingrese el valor para '{clave}': \").lower()\n",
    "    tarjeta_personal[clave] = valor\n",
    "\n",
    "def modificar_datos():\n",
    "\n",
    "    clave = input(\"Ingrese la clave del dato a modificar: \").lower()\n",
    "    if clave in tarjeta_personal:\n",
    "        nuevo_valor = input(f\"Ingrese el nuevo valor para '{clave}': \").lower()\n",
    "        tarjeta_personal[clave] = nuevo_valor\n",
    "        print(f\"Dato '{clave}' modificado correctamente.\")\n",
    "    else:\n",
    "        print(f\"El dato '{clave}' no existe en la tarjeta.\")\n",
    "\n",
    "def eliminar_datos():\n",
    "    \n",
    "    clave = input(\"Ingrese el nombre del dato a eliminar: \").lower()\n",
    "    if clave in tarjeta_personal:\n",
    "        del tarjeta_personal[clave]\n",
    "        print(f\"Dato '{clave}' eliminado correctamente.\")\n",
    "    else:\n",
    "        print(f\"El dato '{clave}' no existe en la tarjeta.\")\n",
    "\n",
    "\n",
    "while True:\n",
    "    opcion = input(\"Seleccione una opción (1-5): \").lower()\n",
    "    \n",
    "    if opcion == \"1\":\n",
    "        crear_datos()\n",
    "    elif opcion == \"2\":\n",
    "        modificar_datos()\n",
    "    elif opcion == \"3\":\n",
    "        eliminar_datos()\n",
    "    elif opcion == \"4\":\n",
    "        mostrar_tarjeta()\n",
    "    elif opcion == \"5\":\n",
    "        break\n",
    "    else:\n",
    "        print(\"Opción no válida. Por favor, seleccione 1-5.\")\n",
    "        \n",
    "        print(tarjeta_personal)       \n"
   ]
  },
  {
   "cell_type": "code",
   "execution_count": null,
   "id": "a77bf616",
   "metadata": {},
   "outputs": [
    {
     "name": "stdout",
     "output_type": "stream",
     "text": [
      "Opción no válida. Por favor, seleccione 1-5.\n",
      "Opción no válida. Por favor, seleccione 1-5.\n",
      "Opción no válida. Por favor, seleccione 1-5.\n"
     ]
    }
   ],
   "source": [
    "agenda_de_contactos = {\n",
    "    \"valor1\": {}\n",
    "    \"valor2\": {}\n",
    "    \n",
    "}\n",
    "\n",
    "\n",
    "\n",
    "def crear_datos():\n",
    "    datos{}\n",
    "    clave = input(\"Ingrese el nombre del dato a añadir (ej: 'nombre', 'teléfono'): \")\n",
    "    valor = input(f\"Ingrese el valor para '{clave}': \").lower()\n",
    "\n",
    "    agenda_de_contactos[clave] = valor\n",
    "   \n",
    "\n",
    "# def modificar_datos():\n",
    "\n",
    "#     clave = input(\"Ingrese la clave del dato a modificar: \").lower()\n",
    "#     if clave in agenda_de_contactos:\n",
    "#         nuevo_valor = input(f\"Ingrese el nuevo valor para '{clave}': \").lower()\n",
    "#         agenda_de_contactos[clave] = nuevo_valor\n",
    "#         print(f\"Dato '{clave}' modificado correctamente.\")\n",
    "#     else:\n",
    "#         print(f\"El dato '{clave}' no existe en la tarjeta.\")\n",
    "\n",
    "# def eliminar_datos():\n",
    "    \n",
    "#     clave = input(\"Ingrese el nombre del dato a eliminar: \").lower()\n",
    "#     if clave in agenda_de_contactos:\n",
    "#         del agenda_de_contactos[clave]\n",
    "#         print(f\"Dato '{clave}' eliminado correctamente.\")\n",
    "#     else:\n",
    "#         print(f\"El dato '{clave}' no existe en la tarjeta.\")\n",
    "\n",
    "while True:\n",
    "    opcion = input(\"Seleccione una opción (1-5): \").lower()\n",
    "    \n",
    "    if opcion == \"1\":\n",
    "        crear_datos()\n",
    "    elif opcion == \"2\":\n",
    "        modificar_datos()\n",
    "    elif opcion == \"3\":\n",
    "        eliminar_datos()\n",
    "    elif opcion == \"4\":\n",
    "        mostrar_tarjeta()\n",
    "    elif opcion == \"5\":\n",
    "        break\n",
    "    else:\n",
    "        print(\"Opción no válida. Por favor, seleccione 1-5.\")\n",
    "\n",
    "        \n",
    "#         print(agenda_de_contactos)       "
   ]
  },
  {
   "cell_type": "markdown",
   "id": "a602bfe6",
   "metadata": {},
   "source": [
    "### PROGRAMCION ORIENTADA A OBJETOS"
   ]
  },
  {
   "cell_type": "code",
   "execution_count": null,
   "id": "f23bfbcb",
   "metadata": {},
   "outputs": [
    {
     "name": "stdout",
     "output_type": "stream",
     "text": [
      "2 4\n"
     ]
    },
    {
     "data": {
      "text/plain": [
       "<function isinstance(obj, class_or_tuple, /)>"
      ]
     },
     "execution_count": 89,
     "metadata": {},
     "output_type": "execute_result"
    }
   ],
   "source": [
    "class Perro:\n",
    "    ojos = 2\n",
    "    patas = 4\n",
    "\n",
    "firu = perro()\n",
    "\n",
    "peter = perro()\n",
    "\n",
    "print(peter.ojos, peter.patas)\n",
    "print(firu.ojos, firu.patas)\n",
    "\n"
   ]
  },
  {
   "cell_type": "code",
   "execution_count": null,
   "id": "f7234043",
   "metadata": {},
   "outputs": [
    {
     "name": "stdout",
     "output_type": "stream",
     "text": [
      "camino dando saltitos\n"
     ]
    }
   ],
   "source": [
    "class Perro:\n",
    "    # atributo de clases\n",
    "    ojos = 2\n",
    "    patas = 4\n",
    "    # atributos de instancia\n",
    "    def __init__ (self, color, raza):\n",
    "        self.color = color\n",
    "        self.raza = raza\n",
    "\n",
    "    # metodos - acciones que realizan nuestro objeto\n",
    "    def ladrido(self):\n",
    "        print(\"guau guau\")\n",
    "\n",
    "    def caminar(self):\n",
    "        return(\"camino dando saltitos\")\n",
    "\n",
    "# yuwailer = Perro(\"marron\", \"delmer\")\n",
    "\n",
    "# print(yuwailer.raza, yuwailer.color)\n",
    "\n",
    "yuwailer = Perro(\"negro\", \"canoche\")\n",
    "\n",
    "print(yuwailer.caminar())"
   ]
  },
  {
   "cell_type": "markdown",
   "id": "85b9cf02",
   "metadata": {},
   "source": [
    "## CHALLENGE"
   ]
  },
  {
   "cell_type": "code",
   "execution_count": 18,
   "id": "ff95fa88",
   "metadata": {},
   "outputs": [
    {
     "name": "stdout",
     "output_type": "stream",
     "text": [
      "el hijo de su madre salta\n"
     ]
    }
   ],
   "source": [
    "class Gato:\n",
    "    ojos = 2\n",
    "    patas = 4\n",
    "\n",
    "    def __init__ (self, color, raza):\n",
    "        self.color = color\n",
    "        self.raza = raza\n",
    "\n",
    "\n",
    "    \n",
    "    def correr(self):\n",
    "        return(\"el hijo de su madre salta\")\n",
    "\n",
    "    def nombre(self):\n",
    "        return(\"el gato ronronea\")\n",
    "\n",
    "michi = Gato(\"amarillo\", \"delmer\")\n",
    "\n",
    "print(michi.correr())\n",
    "\n",
    "\n"
   ]
  },
  {
   "cell_type": "markdown",
   "id": "e295fdf6",
   "metadata": {},
   "source": [
    "## HERENCIA "
   ]
  },
  {
   "cell_type": "code",
   "execution_count": null,
   "id": "5180b418",
   "metadata": {},
   "outputs": [],
   "source": [
    "class Gato:\n",
    "    ojos = 2\n",
    "    patas = 4\n",
    "\n",
    "    def __init__ (self, color, raza):\n",
    "        self.color = color\n",
    "        self.raza = raza\n",
    "\n",
    "\n",
    "    \n",
    "    # def correr(self):\n",
    "    #     print(\"el hijo de su madre salta\")\n",
    "\n",
    "    # def nombre(self):\n",
    "    #     return(\"el gato ronronea\")\n",
    "\n",
    "\n"
   ]
  },
  {
   "cell_type": "code",
   "execution_count": 22,
   "id": "2c59e777",
   "metadata": {},
   "outputs": [
    {
     "name": "stdout",
     "output_type": "stream",
     "text": [
      "juega por la pelota\n"
     ]
    }
   ],
   "source": [
    "class Gatito(Gato):\n",
    "    cola = 1\n",
    "\n",
    "    def jugar(self):\n",
    "        print('juega por la pelota')\n",
    "\n",
    "michito = Gatito('gris', \"gatote\")\n",
    "\n",
    "michito.correr()\n",
    "michito.jugar()\n"
   ]
  },
  {
   "cell_type": "markdown",
   "id": "2e54465f",
   "metadata": {},
   "source": [
    "## CHALLENGE"
   ]
  },
  {
   "cell_type": "code",
   "execution_count": 61,
   "id": "8b3c0e8a",
   "metadata": {},
   "outputs": [
    {
     "name": "stdout",
     "output_type": "stream",
     "text": [
      "<class '__main__.Hija'>\n"
     ]
    }
   ],
   "source": [
    "class Mujer:\n",
    "    cabello = \"marron\"\n",
    "    ojos = 2\n",
    "\n",
    "    def __init__ (self, etnia, piel):\n",
    "        self.etnia = etnia\n",
    "        self.piel = piel\n",
    "\n",
    "josefa = Mujer(\"guarani\", \"canela\")\n",
    "\n",
    "class Hija(Mujer):\n",
    "    pies = 2\n",
    "    print(Hija)\n",
    "\n",
    "    def mostar(self):\n",
    "        print(self.etnia)\n",
    "        print(self.piel)\n",
    "\n",
    " "
   ]
  }
 ],
 "metadata": {
  "kernelspec": {
   "display_name": "Python 3",
   "language": "python",
   "name": "python3"
  },
  "language_info": {
   "codemirror_mode": {
    "name": "ipython",
    "version": 3
   },
   "file_extension": ".py",
   "mimetype": "text/x-python",
   "name": "python",
   "nbconvert_exporter": "python",
   "pygments_lexer": "ipython3",
   "version": "3.13.3"
  }
 },
 "nbformat": 4,
 "nbformat_minor": 5
}
