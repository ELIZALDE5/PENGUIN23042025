{
 "cells": [
  {
   "cell_type": "code",
   "execution_count": 1,
   "id": "be75e11f",
   "metadata": {},
   "outputs": [
    {
     "name": "stdout",
     "output_type": "stream",
     "text": [
      "Hola mundo\n"
     ]
    }
   ],
   "source": [
    "def imprimir_saludo():\n",
    "    print('Hola mundo')\n",
    "\n",
    "imprimir_saludo()"
   ]
  },
  {
   "cell_type": "markdown",
   "id": "a1e53c0b",
   "metadata": {},
   "source": [
    "# CHALLENGE"
   ]
  },
  {
   "cell_type": "code",
   "execution_count": 20,
   "id": "dbeafb77",
   "metadata": {},
   "outputs": [
    {
     "name": "stdout",
     "output_type": "stream",
     "text": [
      "auto\n"
     ]
    }
   ],
   "source": [
    "\n",
    "def palabra():\n",
    "    palabra = \"auto\"\n",
    "    print(palabra)\n",
    "\n",
    "palabra()"
   ]
  },
  {
   "cell_type": "code",
   "execution_count": 25,
   "id": "f3833008",
   "metadata": {},
   "outputs": [],
   "source": [
    "def sumar_numeros(numero1, numero2):\n",
    "    suma  = numero1 + numero2\n",
    "    print(suma)"
   ]
  },
  {
   "cell_type": "markdown",
   "id": "f1772647",
   "metadata": {},
   "source": [
    "# CHALLENGE\n",
    "\n",
    "Crear una función que reciba dos letras (parámetros) y que verifique si son iguales:\n",
    "\n",
    "Si son iguales, imprimir \"Las letras son iguales\".\n",
    "\n",
    "De lo contrario, imprimir \"Las letras son diferentes\"."
   ]
  },
  {
   "cell_type": "code",
   "execution_count": 40,
   "id": "79eb818e",
   "metadata": {},
   "outputs": [
    {
     "name": "stdout",
     "output_type": "stream",
     "text": [
      "Las letras no cinciden\n"
     ]
    }
   ],
   "source": [
    "def comparacio_de_letras(letra1, letra2):\n",
    "    if letra1 == letra2:\n",
    "        print('Son letras iguales')\n",
    "    else:\n",
    "        print('Las letras no cinciden')\n",
    "comparacio_de_letras(\"a\" , \"n\")"
   ]
  },
  {
   "cell_type": "code",
   "execution_count": 57,
   "id": "ae4ca768",
   "metadata": {},
   "outputs": [
    {
     "data": {
      "text/plain": [
       "3"
      ]
     },
     "execution_count": 57,
     "metadata": {},
     "output_type": "execute_result"
    }
   ],
   "source": [
    "def sumatoria (numero1, numero2):\n",
    "    sumar = numero1 + numero2\n",
    "    return sumar\n",
    "sumatoria(1,2)"
   ]
  },
  {
   "cell_type": "code",
   "execution_count": 58,
   "id": "9aa33f16",
   "metadata": {},
   "outputs": [
    {
     "name": "stdout",
     "output_type": "stream",
     "text": [
      "4\n"
     ]
    }
   ],
   "source": [
    "suma1 = sumatoria(1,2)\n",
    "total = suma1 + 1\n",
    "print(total)"
   ]
  },
  {
   "cell_type": "markdown",
   "id": "561773b6",
   "metadata": {},
   "source": [
    "# CHALLENGE\n",
    "Crear una función que reciba dos parámetros (una palabra y un número), y que retorne True si el número es igual a la cantidad de letras de la palabra. En caso contrario, que retorne False.\n",
    "\n",
    "Pista: cantidad de letras de una palabra en python"
   ]
  },
  {
   "cell_type": "code",
   "execution_count": 64,
   "id": "f3c40244",
   "metadata": {},
   "outputs": [
    {
     "data": {
      "text/plain": [
       "False"
      ]
     },
     "execution_count": 64,
     "metadata": {},
     "output_type": "execute_result"
    }
   ],
   "source": [
    "def comparar_cantidad(palabra, numero):\n",
    "    if len(palabra) == numero:\n",
    "        return True\n",
    "    else:\n",
    "        return False\n",
    "\n",
    "comparar_cantidad('manzana', 4)"
   ]
  },
  {
   "cell_type": "code",
   "execution_count": 65,
   "id": "09c1d0a6",
   "metadata": {},
   "outputs": [
    {
     "name": "stdout",
     "output_type": "stream",
     "text": [
      "hola\n",
      "ovi\n"
     ]
    }
   ],
   "source": [
    "palabra_a_encontrar = input('Ingrese una palabra')\n",
    "print(palabra_a_encontrar)\n",
    "\n",
    "palabra_ingresada = input('Ingrese otra palabra')\n",
    "print(palabra_ingresada)"
   ]
  },
  {
   "cell_type": "code",
   "execution_count": 67,
   "id": "f607be28",
   "metadata": {},
   "outputs": [
    {
     "name": "stdout",
     "output_type": "stream",
     "text": [
      "['h', 'o', 'l', 'a']\n",
      "['o', 'v', 'i']\n"
     ]
    }
   ],
   "source": [
    "lista_de_litras_de_la_palabra_a_encontrar = list(palabra_a_encontrar)\n",
    "print(lista_de_litras_de_la_palabra_a_encontrar)\n",
    "\n",
    "lista_de_litras_de_la_palabra_a_encontrar = list(palabra_ingresada)\n",
    "print(lista_de_litras_de_la_palabra_a_encontrar)"
   ]
  },
  {
   "cell_type": "markdown",
   "id": "6154129a",
   "metadata": {},
   "source": [
    "## CHALLENGE\n",
    "Challenge 5 🤺 - 25m\n",
    "Pedir al usuario que ingrese 1 palabra, luego convertir esa palabra a una lista con sus caracteres con list(). Agregar esa lista de caracteres a una lista llamada palabras_ingresadas. Repetir el proceso 3 veces. Cada vez que se agregue una lista de caracteres, imprimir la lista palabras_ingresadas.\n",
    "\n",
    "\n",
    "Ejemplo del resultado esperado:\n",
    "\n",
    "[['c', 'i', 'e', 'l', 'o']]\n",
    " # Al ingresar la primera palabra\n",
    "\n",
    "[['c', 'i', 'e', 'l', 'o'], ['c', 'a', 'l', 'o', 'r']]\n",
    " # Al ingresar la segunda palabra\n",
    "\n",
    "[['c', 'i', 'e', 'l', 'o'], ['c', 'a', 'l', 'o', 'r'], ['n', 'u', 'b', 'e', 's']]\n",
    " # Al ingresar la tercera palabra\n"
   ]
  },
  {
   "cell_type": "code",
   "execution_count": 89,
   "id": "4c4a3d4d",
   "metadata": {},
   "outputs": [
    {
     "name": "stdout",
     "output_type": "stream",
     "text": [
      "[['h', 'o', 'l', 'a']]\n",
      "[['h', 'o', 'l', 'a'], ['c', 'o', 'm', 'o']]\n",
      "[['h', 'o', 'l', 'a'], ['c', 'o', 'm', 'o'], ['e', 's', 't', 'a', 's']]\n"
     ]
    }
   ],
   "source": [
    "lista_de_listas = []\n",
    "\n",
    "usuario1 = input('Favor ingrese una palabra')\n",
    "listar_palabra_solicitada = list(usuario1)\n",
    "lista_de_listas.append(listar_palabra_solicitada)\n",
    "print(lista_de_listas)\n",
    "\n",
    "usuario2 = input('Favor ingrese una palabra')\n",
    "listar_palabra_solicitada = list(usuario2)\n",
    "lista_de_listas.append(listar_palabra_solicitada)\n",
    "print(lista_de_listas)\n",
    "\n",
    "usuario3 = input('Favor ingrese una palabra')\n",
    "listar_palabra_solicitada = list(usuario3)\n",
    "lista_de_listas.append(listar_palabra_solicitada)\n",
    "print(lista_de_listas)\n"
   ]
  },
  {
   "cell_type": "code",
   "execution_count": 90,
   "id": "b74dd7f9",
   "metadata": {},
   "outputs": [
    {
     "name": "stdout",
     "output_type": "stream",
     "text": [
      "[['h', 'o', 'l', 'a']]\n",
      "[['h', 'o', 'l', 'a'], ['c', 'o', 'm', 'o']]\n",
      "[['h', 'o', 'l', 'a'], ['c', 'o', 'm', 'o'], ['e', 's', 't', 'a', 's']]\n"
     ]
    }
   ],
   "source": [
    "# nivel 2\n",
    "palabras_ingresadas = []\n",
    "\n",
    "def Conteo():\n",
    "\n",
    "    Palabra_ingresada_usuario = input(\"Pon una palabra\")\n",
    "    palabra_descompuesta = list(Palabra_ingresada_usuario)\n",
    "    palabras_ingresadas.append(palabra_descompuesta)\n",
    "    print(palabras_ingresadas)\n",
    "\n",
    "Conteo()\n",
    "Conteo()\n",
    "Conteo()"
   ]
  },
  {
   "cell_type": "markdown",
   "id": "a1841ad0",
   "metadata": {},
   "source": []
  },
  {
   "cell_type": "code",
   "execution_count": 182,
   "id": "5d08fdfb",
   "metadata": {},
   "outputs": [],
   "source": [
    "#Crear una funcion que contenga dos parametros\n",
    "def obtener_fila_verificada(palabra_a_encontrar, palabra_ingresada):\n",
    "    #Segundo paso: definir la cantidad de letras de la palabra a encontrar\n",
    "    cantidad_de_letras_de_palabra_a_encontrar = 5\n",
    "\n",
    "    #Tercer paso: Crear una lista vacia para guardar las letras verificadas\n",
    "    letras_verificadas = []\n",
    "\n",
    "    #Cuarto paso: Se recorre cada posicion de la palabra \n",
    "    for posicion in range (cantidad_de_letras_de_palabra_a_encontrar):\n",
    "\n",
    "        #Quinto paso: Comparar las letras en la misma posicion\n",
    "        las_letras_son_iguales = palabra_a_encontrar[posicion] == palabra_ingresada[posicion]\n",
    "\n",
    "        #Sexto paso se verifica si la letra existe en la palabra\n",
    "        la_letra_existe_en_la_palabra = palabra_ingresada[posicion] in palabra_a_encontrar\n",
    "\n",
    "        if las_letras_son_iguales:\n",
    "            letras_verificadas.append('[' + palabra_ingresada[posicion] + ']')\n",
    "        \n",
    "        elif la_letra_existe_en_la_palabra:\n",
    "            letras_verificadas.append('(' + palabra_ingresada[posicion] + ')')\n",
    "        else:\n",
    "            letras_verificadas.append(palabra_ingresada[posicion])\n",
    "\n",
    "        \n",
    "    return letras_verificadas"
   ]
  },
  {
   "cell_type": "code",
   "execution_count": 188,
   "id": "41aac955",
   "metadata": {},
   "outputs": [
    {
     "name": "stdout",
     "output_type": "stream",
     "text": [
      "['[h]', '(o)', 'l', 'a', 'r']\n"
     ]
    }
   ],
   "source": [
    "palabra_a_encontrar = 'huevo'\n",
    "palabra_ingresada = input(\"Ingresar una palabra de 5 letras\")\n",
    "linea_verificada = obtener_fila_verificada(palabra_a_encontrar, palabra_ingresada)\n",
    "\n",
    "print(linea_verificada)\n"
   ]
  },
  {
   "cell_type": "markdown",
   "id": "78556ad7",
   "metadata": {},
   "source": [
    "## CHALLENGE\n",
    "Dada la lista de ejemplo: \n",
    "\n",
    "lista = [['h', 'o', 'l', 'i', 's'], ['h', 'e', 'l', 'l', 'o'], ['h', 'a', 'l', 'l', 'o']]\n",
    "\n",
    "Crear una función que imprima una grilla (lista de listas), una línea por cada lista dentro de la lista principal.\n",
    "\n",
    "Ejemplo del resultado esperado:\n",
    "\n",
    "['h', 'o', 'l', 'i', 's']\n",
    "['h', 'e', 'l', 'l', 'o']\n",
    "['h', 'a', 'l', 'l', 'o']"
   ]
  },
  {
   "cell_type": "code",
   "execution_count": 114,
   "id": "19e21d77",
   "metadata": {},
   "outputs": [
    {
     "name": "stdout",
     "output_type": "stream",
     "text": [
      "['h', 'o', 'l', 'i', 's']\n",
      "['h', 'e', 'l', 'l', 'o']\n",
      "['h', 'a', 'l', 'l', 'o']\n"
     ]
    }
   ],
   "source": [
    "lista = [['h', 'o', 'l', 'i', 's'], ['h', 'e', 'l', 'l', 'o'], ['h', 'a', 'l', 'l', 'o']]\n",
    "def letras(lista):\n",
    "    for lista_de_listas in lista:\n",
    "        print(lista_de_listas)\n",
    "letras(lista)"
   ]
  },
  {
   "cell_type": "markdown",
   "id": "fb0ed5c2",
   "metadata": {},
   "source": [
    "## CHALLENGE FINAL"
   ]
  },
  {
   "cell_type": "code",
   "execution_count": null,
   "id": "2882efa3",
   "metadata": {},
   "outputs": [
    {
     "name": "stdout",
     "output_type": "stream",
     "text": [
      "BIENVENIDOS AL JUEGO\n"
     ]
    }
   ],
   "source": [
    "# INICIAR JUEGO\n",
    "def imprimir_saludo():\n",
    "    print(\"BIENVENIDOS AL JUEGO\")\n",
    "\n",
    "imprimir_saludo()\n",
    "\n",
    "def verificador_de_resultado():\n",
    "    palabra_ingresada_por_el_jugador = input('Ingrese una palabra con 8 letras')\n",
    "    palabra_definida_por_el_juego =  'caramelo'\n",
    "    cantidad_de_letras_de_palabra_a_encontrar = 8\n",
    "    intentos_maximo = 4\n",
    "    intentos_minimos = 0\n",
    "\n",
    "   \n",
    "\n",
    "    for posicion in range(cantidad_de_letras_de_palabra_a_encontrar):\n",
    "\n",
    "        letras_a_verificar = []\n",
    "\n",
    "        if palabra_ingresada_por_el_jugador == palabra_definida_por_el_juego:\n",
    "           print('Juego logrado')\n",
    "        elif las letras son iguales:\n",
    "        letras_a_verificar = palabra_ingresada_por_el_jugador[posicion] == palabra_definida_por_el_juego[posicion]\n",
    "\n",
    "\n",
    "\n"
   ]
  },
  {
   "cell_type": "markdown",
   "id": "ba541ccb",
   "metadata": {},
   "source": [
    "def obtener_fila_verificada(palabra_a_encontrar, palabra_ingresada):\n",
    "    cantidad_de_letras_de_palabra_a_encontrar = 5\n",
    "\n",
    "    letras_verificadas = []\n",
    "\n",
    "    for posicion in range (cantidad_de_letras_de_palabra_a_encontrar):\n",
    "\n",
    "        las_letras_son_iguales = palabra_a_encontrar[posicion] == palabra_ingresada[posicion]\n",
    "\n",
    "        la_letra_existe_en_la_palabra = palabra_ingresada[posicion] in palabra_a_encontrar\n",
    "\n",
    "        if las_letras_son_iguales:\n",
    "            letras_verificadas.append('[' + palabra_ingresada[posicion] + ']')\n",
    "        \n",
    "        elif la_letra_existe_en_la_palabra:\n",
    "            letras_verificadas.append('(' + palabra_ingresada[posicion] + ')')\n",
    "        else:\n",
    "            letras_verificadas.append(palabra_ingresada[posicion])\n",
    "\n",
    "        \n",
    "    return letras_verificadas"
   ]
  }
 ],
 "metadata": {
  "kernelspec": {
   "display_name": "Python 3",
   "language": "python",
   "name": "python3"
  },
  "language_info": {
   "codemirror_mode": {
    "name": "ipython",
    "version": 3
   },
   "file_extension": ".py",
   "mimetype": "text/x-python",
   "name": "python",
   "nbconvert_exporter": "python",
   "pygments_lexer": "ipython3",
   "version": "3.13.3"
  }
 },
 "nbformat": 4,
 "nbformat_minor": 5
}
