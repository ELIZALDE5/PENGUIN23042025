{
 "cells": [
  {
   "cell_type": "code",
   "execution_count": 2,
   "id": "5256bc09",
   "metadata": {},
   "outputs": [
    {
     "name": "stdout",
     "output_type": "stream",
     "text": [
      "Hola mundo\n"
     ]
    }
   ],
   "source": [
    "print(\"Hola mundo\")"
   ]
  },
  {
   "cell_type": "code",
   "execution_count": 5,
   "id": "a2dad79a",
   "metadata": {},
   "outputs": [
    {
     "name": "stdout",
     "output_type": "stream",
     "text": [
      "Ovidio\n",
      "Elizalde\n"
     ]
    }
   ],
   "source": [
    "nombre = \"Ovidio\"\n",
    "apellido = \"Elizalde\"\n",
    "print(nombre)\n",
    "print(apellido)"
   ]
  },
  {
   "cell_type": "markdown",
   "id": "3f7db3ee",
   "metadata": {},
   "source": [
    "## Variables, seria como una caja para guardar datos- nombre-apellido, etc."
   ]
  },
  {
   "cell_type": "code",
   "execution_count": 7,
   "id": "a670b6c7",
   "metadata": {},
   "outputs": [
    {
     "name": "stdout",
     "output_type": "stream",
     "text": [
      "manzana\n",
      "5\n",
      "naranja\n"
     ]
    }
   ],
   "source": [
    "frutas = \"manzana\"\n",
    "print(frutas)\n",
    "cantidad_de_frutas = \"5\"\n",
    "print(cantidad_de_frutas)\n",
    "frutas = \"naranja\"\n",
    "print(frutas)"
   ]
  },
  {
   "cell_type": "code",
   "execution_count": 10,
   "id": "807b9948",
   "metadata": {},
   "outputs": [
    {
     "name": "stdout",
     "output_type": "stream",
     "text": [
      "naranja, pera\n",
      "naranja, pera\n"
     ]
    }
   ],
   "source": [
    "print(frutas)\n",
    "frutas = \"naranja, pera\"\n",
    "print(frutas)"
   ]
  },
  {
   "cell_type": "markdown",
   "id": "edb4e247",
   "metadata": {},
   "source": [
    "## Tipos de datos\n",
    "- int - \n"
   ]
  },
  {
   "cell_type": "code",
   "execution_count": 17,
   "id": "3eee385f",
   "metadata": {},
   "outputs": [],
   "source": [
    "numero = 123456\n",
    "numero_decimal = 1.2\n",
    "nombre = \"Ovidio\"\n",
    "cajon_abierto = False"
   ]
  },
  {
   "cell_type": "markdown",
   "id": "32b4d17f",
   "metadata": {},
   "source": [
    "#  Operaciones Aritmetetica"
   ]
  },
  {
   "cell_type": "markdown",
   "id": "1ec43993",
   "metadata": {},
   "source": [
    "SUME +\n",
    "RESTA -\n",
    "DIVISION /\n",
    "MULTIPLICACION *\n",
    "DIVISION ENTERA //"
   ]
  },
  {
   "cell_type": "code",
   "execution_count": 28,
   "id": "3192e8cf",
   "metadata": {},
   "outputs": [
    {
     "name": "stdout",
     "output_type": "stream",
     "text": [
      "35000\n",
      "30000\n",
      "5066.666666666667\n"
     ]
    }
   ],
   "source": [
    "# Suma\n",
    "precio_total = 15000 + 20000\n",
    "print(precio_total)\n",
    "\n",
    "precio_descuento = precio_total - 5000\n",
    "print(precio_descuento)\n",
    "\n",
    "precio_gaseosa = 19000\n",
    "cantidad_gaseosa = 4\n",
    "cantidad_persona = 15\n",
    "precio_final = precio_gaseosa * cantidad_gaseosa\n",
    "promedio_por_persona = precio_final / cantidad_persona\n",
    "print(promedio_por_persona)"
   ]
  },
  {
   "cell_type": "markdown",
   "id": "6d50ae43",
   "metadata": {},
   "source": [
    "#   CHALLENGE 1 23042025"
   ]
  },
  {
   "cell_type": "code",
   "execution_count": null,
   "id": "88e65b6f",
   "metadata": {},
   "outputs": [
    {
     "name": "stdout",
     "output_type": "stream",
     "text": [
      "38\n",
      "21\n"
     ]
    }
   ],
   "source": [
    "\n",
    "# Sumar: Asignar dos números en dos variables diferentes cantidad_de_manzanas y cantidad_de_naranjas. \n",
    "# Luego sumar ambas variables en cantidad_de_frutas. Imprimir la última variable.\n",
    "cantidad_de_manzanas = 15\n",
    "cantidad_de_naranjas = 23\n",
    "cantidad_de_frutas = cantidad_de_manzanas + cantidad_de_naranjas\n",
    "print(cantidad_de_frutas)\n",
    "# Resta: asignar un valor numérico a la variable frutas_vendidas. \n",
    "# Luego, asignar la resta entre cantidad_de_frutas y frutas_vendidas a la variable frutas_restantes. Imprimir la última variable.\n",
    "frutas_vendidas =  17\n",
    "frutas_restantes = cantidad_de_frutas - frutas_vendidas\n",
    "print(frutas_restantes)"
   ]
  },
  {
   "cell_type": "code",
   "execution_count": null,
   "id": "1a0db7e5",
   "metadata": {},
   "outputs": [
    {
     "name": "stdout",
     "output_type": "stream",
     "text": [
      "OvidioElizalde\n",
      "Ovidio Elizalde\n",
      "Hola, mi nombre es Ovidio Elizalde\n",
      "Hola, mi nombre es: Ovidio Elizalde\n"
     ]
    }
   ],
   "source": [
    "nombre = \"Ovidio\"\n",
    "apellido = \"Elizalde\"\n",
    "nombre_completo = nombre + apellido\n",
    "print(nombre_completo)\n",
    "print(nombre + \" \" + apellido)\n",
    "print(\"Hola, mi nombre es\" + \" \" + nombre + \" \" + apellido)\n",
    "print(f\"Hola, mi nombre es: {nombre} {apellido}\")"
   ]
  },
  {
   "cell_type": "markdown",
   "id": "aac33bcd",
   "metadata": {},
   "source": [
    "# CHALLENGE 2 23 04 2025"
   ]
  },
  {
   "cell_type": "code",
   "execution_count": 56,
   "id": "52fe736b",
   "metadata": {},
   "outputs": [
    {
     "name": "stdout",
     "output_type": "stream",
     "text": [
      "Hola. Me llamo Jessica Bareiro. Mucho gusto\n",
      "Hola. Me llamo Jessica Bareiro. Mucho gusto\n",
      "Hola. Me llamo Jessica Bareiro. Mucho gusto\n"
     ]
    }
   ],
   "source": [
    "# Asignar el nombre y el apellido de tu compañera/o a las variables nombre y apellido. \n",
    "# Luego, imprimir una frase, utilizando las variables. EJEMPLO: \"Hola. Me llamo Claudia Melgarejo. Mucho gusto.\"\n",
    "nombre = \"Jessica\"\n",
    "apellido = \"Bareiro\"\n",
    "nombre_completo = nombre + \" \" + apellido\n",
    "print(\"Hola. Me llamo\" + \" \" + nombre_completo + \".\" + \" \" + \"Mucho gusto\")\n",
    "print(f\"Hola. Me llamo {nombre_completo}. Mucho gusto\")\n",
    "print(f\"Hola. Me llamo {nombre} {apellido}. Mucho gusto\")"
   ]
  },
  {
   "cell_type": "markdown",
   "id": "7e45fa75",
   "metadata": {},
   "source": [
    "# INPUT - preguntas \n",
    "# INT - numeros "
   ]
  },
  {
   "cell_type": "code",
   "execution_count": 65,
   "id": "fab54892",
   "metadata": {},
   "outputs": [
    {
     "name": "stdout",
     "output_type": "stream",
     "text": [
      "4\n"
     ]
    }
   ],
   "source": [
    "#nombre = input(\"Cual es tu nombre?\")\n",
    "#print(nombre)\n",
    "numero1 = input(\"dame un numero\")\n",
    "numero2 = input(\"dame otro numero\")\n",
    "suma = int(numero1) + int(numero2)\n",
    "print(suma)"
   ]
  },
  {
   "cell_type": "markdown",
   "id": "910281ac",
   "metadata": {},
   "source": [
    "# CHALLENGE"
   ]
  },
  {
   "cell_type": "code",
   "execution_count": 67,
   "id": "06d8c181",
   "metadata": {},
   "outputs": [
    {
     "name": "stdout",
     "output_type": "stream",
     "text": [
      "56\n"
     ]
    }
   ],
   "source": [
    "# Solicitar al usuario ingresar dos números y almacenarlos en dos variables. Luego, imprimir la suma de los dos números.\n",
    "cantidad1 = int(input(\"Cuantas manzanas tiene en la bodega?\"))\n",
    "cantidad2 = int(input(\"y, que cantidad tienes en el mostrador?\"))\n",
    "suma = cantidad1 + cantidad2\n",
    "print(suma)"
   ]
  },
  {
   "cell_type": "markdown",
   "id": "c0430f1c",
   "metadata": {},
   "source": [
    "# FUNCION - def     indentancion"
   ]
  },
  {
   "cell_type": "code",
   "execution_count": 69,
   "id": "5d8eeff7",
   "metadata": {},
   "outputs": [
    {
     "name": "stdout",
     "output_type": "stream",
     "text": [
      "abrir el pan\n",
      "agregar jamon\n",
      "agregar queso\n",
      "cerrar pan\n",
      "listo!\n"
     ]
    }
   ],
   "source": [
    "def preparar_sandwich():\n",
    "    print('abrir el pan')\n",
    "    print('agregar jamon')\n",
    "    print('agregar queso')\n",
    "    print('cerrar pan')\n",
    "    print('listo!')\n",
    "\n",
    "preparar_sandwich()"
   ]
  },
  {
   "cell_type": "markdown",
   "id": "0e543b50",
   "metadata": {},
   "source": [
    "# CHALLENGE 2 23 04 2025"
   ]
  },
  {
   "cell_type": "code",
   "execution_count": 73,
   "id": "03ef61fd",
   "metadata": {},
   "outputs": [
    {
     "name": "stdout",
     "output_type": "stream",
     "text": [
      "varificar todo el edificio\n",
      "verificar que todas las ventanas y puertas esten cerradas\n",
      "habilitar la alarma\n",
      "informar el cierre al gerente\n",
      "en caso que existan alguna novedad anotar en el cuaderno de novedades\n",
      "varificar todo el edificio\n",
      "verificar que todas las ventanas y puertas esten cerradas\n",
      "habilitar la alarma\n",
      "informar el cierre al gerente\n",
      "en caso que existan alguna novedad anotar en el cuaderno de novedades\n",
      "varificar todo el edificio\n",
      "verificar que todas las ventanas y puertas esten cerradas\n",
      "habilitar la alarma\n",
      "informar el cierre al gerente\n",
      "en caso que existan alguna novedad anotar en el cuaderno de novedades\n"
     ]
    }
   ],
   "source": [
    "# Crear una función de un proceso que se les ocurra que tenga varios pasos. \n",
    "# Ejecutar la función 3 veces.\n",
    "\n",
    "def cerrar_local():\n",
    "    print('varificar todo el edificio')\n",
    "    print('verificar que todas las ventanas y puertas esten cerradas')\n",
    "    print('habilitar la alarma')\n",
    "    print('informar el cierre al gerente')\n",
    "    print('en caso que existan alguna novedad anotar en el cuaderno de novedades')\n",
    "\n",
    "cerrar_local()\n",
    "cerrar_local()\n",
    "cerrar_local()"
   ]
  },
  {
   "cell_type": "markdown",
   "id": "0d740af8",
   "metadata": {},
   "source": [
    "# PARAMETRO Y ARGUMENTOS"
   ]
  },
  {
   "cell_type": "code",
   "execution_count": 77,
   "id": "1b1ae022",
   "metadata": {},
   "outputs": [
    {
     "name": "stdout",
     "output_type": "stream",
     "text": [
      "abrir el pan\n",
      "agregar huevo\n",
      "cerrar pan\n",
      "listo\n",
      "abrir el pan\n",
      "agregar tomate y lechuga\n",
      "cerrar pan\n",
      "listo\n"
     ]
    }
   ],
   "source": [
    "def preparar_sandwich(ingredientes):\n",
    "    print('abrir el pan')\n",
    "    print(f'agregar {ingredientes}')\n",
    "    print('cerrar pan')\n",
    "    print('listo')\n",
    "\n",
    "preparar_sandwich('huevo')\n",
    "preparar_sandwich('tomate y lechuga')\n"
   ]
  },
  {
   "cell_type": "markdown",
   "id": "1e8e4ec6",
   "metadata": {},
   "source": [
    "# CHALLENGE 5 23 04 2025"
   ]
  },
  {
   "cell_type": "code",
   "execution_count": 106,
   "id": "852ea860",
   "metadata": {},
   "outputs": [
    {
     "name": "stdout",
     "output_type": "stream",
     "text": [
      "Buenas tardes, ahora le paso la carateristica del inmueble en la ubicacion que me ha solicitado\n",
      "Pais: Paraguay\n",
      "Departamento: Central\n",
      "Cuidad: San Lorenzo\n",
      "Carateristica del inmueble: departamento\n",
      "Muchas gracias le preparamos un catalogo\n",
      " \n"
     ]
    }
   ],
   "source": [
    "#Escribir una funcion que nos pregunte las caracteriticas de un elemento a comprar e imprima el elemento con sus caracteristicas.\n",
    "def comprar_inmueble(especificacion):\n",
    "    print('Buenas tardes, ahora le paso la carateristica del inmueble en la ubicacion que me ha solicitado')\n",
    "    print('Pais: Paraguay')\n",
    "    print('Departamento: Central')\n",
    "    print('Cuidad: San Lorenzo')\n",
    "    print(f'Carateristica del inmueble: {especificacion}')\n",
    "    print('Muchas gracias le preparamos un catalogo')\n",
    "    print(' ')\n",
    "\n",
    "comprar_inmueble('departamento')"
   ]
  },
  {
   "cell_type": "markdown",
   "id": "dff36969",
   "metadata": {},
   "source": [
    "#ALCANCE GLOBAL Y ALCANCE LOCAL - INTERNO Y EXTERNO"
   ]
  },
  {
   "cell_type": "code",
   "execution_count": 108,
   "id": "2ea6fade",
   "metadata": {},
   "outputs": [
    {
     "name": "stdout",
     "output_type": "stream",
     "text": [
      "Estoy cocinando carne\n"
     ]
    }
   ],
   "source": [
    "def preparar_comida():\n",
    "    ingrediente = 'carne'\n",
    "    print(f'Estoy cocinando {ingrediente}')\n",
    "\n",
    "preparar_comida()"
   ]
  },
  {
   "cell_type": "code",
   "execution_count": 110,
   "id": "0bed3655",
   "metadata": {},
   "outputs": [
    {
     "name": "stdout",
     "output_type": "stream",
     "text": [
      "Estoy cocinando carne\n",
      "pollo\n"
     ]
    }
   ],
   "source": [
    "ingrediente = 'pollo'\n",
    "preparar_comida()\n",
    "print(ingrediente)"
   ]
  }
 ],
 "metadata": {
  "kernelspec": {
   "display_name": "Python 3",
   "language": "python",
   "name": "python3"
  },
  "language_info": {
   "codemirror_mode": {
    "name": "ipython",
    "version": 3
   },
   "file_extension": ".py",
   "mimetype": "text/x-python",
   "name": "python",
   "nbconvert_exporter": "python",
   "pygments_lexer": "ipython3",
   "version": "3.13.3"
  }
 },
 "nbformat": 4,
 "nbformat_minor": 5
}
