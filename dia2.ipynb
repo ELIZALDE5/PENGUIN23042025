{
 "cells": [
  {
   "cell_type": "code",
   "execution_count": 7,
   "id": "e749b50c",
   "metadata": {},
   "outputs": [],
   "source": [
    "def saludo_bienvenida(nombre):\n",
    "    print(f'Buen dia {nombre}')"
   ]
  },
  {
   "cell_type": "code",
   "execution_count": 2,
   "id": "0edcd559",
   "metadata": {},
   "outputs": [
    {
     "name": "stdout",
     "output_type": "stream",
     "text": [
      "Buen dia Carlos\n"
     ]
    }
   ],
   "source": [
    "saludo_bienvenida('Carlos')"
   ]
  },
  {
   "cell_type": "code",
   "execution_count": 6,
   "id": "2e7ff37a",
   "metadata": {},
   "outputs": [
    {
     "name": "stdout",
     "output_type": "stream",
     "text": [
      "Buen dia Ovi\n"
     ]
    }
   ],
   "source": [
    "usuario = input('Ingrese su nombre')\n",
    "saludo_bienvenida(usuario)"
   ]
  },
  {
   "cell_type": "markdown",
   "id": "2d47ce87",
   "metadata": {},
   "source": [
    "### CONDICIONALES\n",
    "###### Mayor> ----- Menor< ----  Mayor o igual >= ----- Menor o igual<= ----- Es igual == ----- Diferente!=\n",
    "\n",
    "###### if (SI) - elif (sino si) - else (sino)"
   ]
  },
  {
   "cell_type": "code",
   "execution_count": 6,
   "id": "50811f4c",
   "metadata": {},
   "outputs": [
    {
     "name": "stdout",
     "output_type": "stream",
     "text": [
      "Es mayor de edad, podes ingresar\n"
     ]
    }
   ],
   "source": [
    "edad = 18\n",
    "if edad < 18:\n",
    "    print('Es menor, no podes ingresar')\n",
    "else:\n",
    "    print('Es mayor de edad, podes ingresar') "
   ]
  },
  {
   "cell_type": "code",
   "execution_count": 11,
   "id": "f450dbc2",
   "metadata": {},
   "outputs": [
    {
     "name": "stdout",
     "output_type": "stream",
     "text": [
      "trabajador\n"
     ]
    }
   ],
   "source": [
    "edad_individuo = 56\n",
    "if edad_individuo < 18:\n",
    "    print('Estudiante')\n",
    "elif edad_individuo > 65:\n",
    "    prin(Jubilado)\n",
    "else:\n",
    "    print('trabajador')"
   ]
  },
  {
   "cell_type": "markdown",
   "id": "a15c1c8f",
   "metadata": {},
   "source": [
    "## CHALLENGE"
   ]
  },
  {
   "cell_type": "code",
   "execution_count": 38,
   "id": "60ef090e",
   "metadata": {},
   "outputs": [
    {
     "name": "stdout",
     "output_type": "stream",
     "text": [
      "Juguito nomas\n"
     ]
    }
   ],
   "source": [
    "edad = int(input(\"Cual es tu edad?\"))\n",
    "if edad < 18:\n",
    "    print('Juguito nomas')\n",
    "elif edad >= 21:\n",
    "    print(\"Hace lo que quieras\")\n",
    "else:\n",
    "    print('Podes tomar pero no comprar')   "
   ]
  },
  {
   "cell_type": "markdown",
   "id": "2fbc32c1",
   "metadata": {},
   "source": [
    "### OPERADORES LOGICOS\n",
    "#### and (y) - or (o) - not (no)\n",
    "Operadores Lógicos\n",
    "and(y) - Se cumple solo si ambas condiciones son verdaderas.\n",
    "or (o) - Se cumple si al menos una de las condiciones es verdadera."
   ]
  },
  {
   "cell_type": "code",
   "execution_count": 44,
   "id": "2b573c2b",
   "metadata": {},
   "outputs": [
    {
     "name": "stdout",
     "output_type": "stream",
     "text": [
      "Desempleado\n"
     ]
    }
   ],
   "source": [
    "edad_persona = 18\n",
    "trabaja = False\n",
    "\n",
    "if edad_persona < 18:\n",
    "    print('Estudiante')\n",
    "elif edad_persona < 65 and trabaja == True:\n",
    "    print('Activa laboralmente')\n",
    "elif edad_persona < 65 and trabaja == False:\n",
    "    print('Desempleado')\n",
    "else:\n",
    "    print('Jubilado')"
   ]
  },
  {
   "cell_type": "code",
   "execution_count": 83,
   "id": "fd300bc9",
   "metadata": {},
   "outputs": [
    {
     "name": "stdout",
     "output_type": "stream",
     "text": [
      "Activa laboralmente\n"
     ]
    }
   ],
   "source": [
    "def chequear_edad(edad_laboral, trabaja):\n",
    "    if edad_laboral < 18:\n",
    "        print('Estudiante')\n",
    "    elif edad_laboral < 65 and trabaja == True:\n",
    "        print('Activa laboralmente')\n",
    "    elif edad_laboral < 65 and trabaja == False:\n",
    "        print('Desempleado')\n",
    "    else:\n",
    "        print('Jubilado')\n",
    "chequear_edad(18, True)"
   ]
  },
  {
   "cell_type": "code",
   "execution_count": 96,
   "id": "f10d41a8",
   "metadata": {},
   "outputs": [
    {
     "name": "stdout",
     "output_type": "stream",
     "text": [
      "La temperatura de hoy es 45 grados Celsius.\n",
      "Hakuuuu\n"
     ]
    }
   ],
   "source": [
    "#Escribir un programa en el que se pregunte al usuario por una temperatura (en grados Celsius), imprima la temperatura escrita, \n",
    "# y luego clasificar la temperatura ingresada en los siguientes niveles:\n",
    "\n",
    "#Entre -10 y 18 grados, que imprima \"Fresquete\".\n",
    "#Entre 19 y 30 grados, que imprima \"Calor'i\".\n",
    "#Entre 31 y 45 grados, que imprima \"Hakuuuuuu\".\n",
    "#Para todo lo demás, imprimir \"Ñamano mba'e!\".\n",
    "\n",
    "temperatura = int(input('Cual es la temperatura de hoy?'))\n",
    "print(f'La temperatura de hoy es {temperatura} grados Celsius.')\n",
    "\n",
    "if temperatura >= -10 and temperatura < 18:\n",
    "    print('Fresquete')\n",
    "elif temperatura >= 19 and temperatura <= 30:\n",
    "    print('Calori')\n",
    "elif temperatura >= 31 and temperatura <= 45:\n",
    "    print('Hakuuuu')\n",
    "else:\n",
    "    print(\"Namano mbae\")\n",
    "  "
   ]
  },
  {
   "cell_type": "markdown",
   "id": "58f0d55d",
   "metadata": {},
   "source": [
    "## BUCLES - WHILE o mientras: \n",
    "Nos permite ejecutar una serie de instrucciones mientras una condion se cumpla. Cuando la condicion deje de ser \n",
    "cierta el bucle para"
   ]
  },
  {
   "cell_type": "code",
   "execution_count": 107,
   "id": "9c3c8dea",
   "metadata": {},
   "outputs": [
    {
     "name": "stdout",
     "output_type": "stream",
     "text": [
      "10\n",
      "numero verdadero\n"
     ]
    }
   ],
   "source": [
    "numero_a_adivinar = 10\n",
    "numero = 3\n",
    "while numero != numero_a_adivinar:\n",
    "    numero = int(input('Introduce el numero'))\n",
    "    print(numero)\n",
    "print('numero verdadero')\n"
   ]
  },
  {
   "cell_type": "code",
   "execution_count": 110,
   "id": "154e02ec",
   "metadata": {},
   "outputs": [
    {
     "name": "stdout",
     "output_type": "stream",
     "text": [
      "numero incorrecto\n",
      "numero incorrecto\n",
      "El numero es correcto\n"
     ]
    }
   ],
   "source": [
    "numero = 10\n",
    "\n",
    "while True:\n",
    "    numero_ingresado = int(input('El numero correcto'))\n",
    "    if numero_ingresado == numero:\n",
    "        print('El numero es correcto')\n",
    "        break\n",
    "    else:\n",
    "        print('numero incorrecto')"
   ]
  },
  {
   "cell_type": "markdown",
   "id": "5f5688ef",
   "metadata": {},
   "source": [
    "## CHALLENGE"
   ]
  },
  {
   "cell_type": "code",
   "execution_count": 136,
   "id": "013766c8",
   "metadata": {},
   "outputs": [
    {
     "name": "stdout",
     "output_type": "stream",
     "text": [
      "Contrasena incorrecta vuelva a intentarlo\n",
      "Contrasena incorrecta vuelva a intentarlo\n",
      "Contrasena incorrecta vuelva a intentarlo\n",
      "Contrasena incorrecta vuelva a intentarlo\n",
      "Contrasena incorrecta vuelva a intentarlo\n",
      "Contrasena incorrecta vuelva a intentarlo\n",
      "Contrasena ingresada correctamente\n",
      "Mensaje secreto: PERRO\n"
     ]
    }
   ],
   "source": [
    "# Escribir un programa que almacene una contraseña en una variable, y pregunte al usuario por la contraseña hasta que introduzca la contraseña correcta.\n",
    "\n",
    "# Cuando el usuario ingrese la contrasena correcta, imprimir un mensaje secreto\n",
    "\n",
    "contraseña_usuario = 123456\n",
    "\n",
    "while True:\n",
    "    numero_secreto = int(input('Introduzca la contrasena correcta:'))\n",
    "    if numero_secreto == contraseña_usuario:\n",
    "        print('Contrasena ingresada correctamente')\n",
    "        print('Mensaje secreto: PERRO')\n",
    "        break\n",
    "    else:\n",
    "        print('Contrasena incorrecta vuelva a intentarlo')\n"
   ]
  },
  {
   "cell_type": "markdown",
   "id": "74a20eb9",
   "metadata": {},
   "source": [
    "## LISTAS\n",
    "Una agrupacion de objetos, que pudeen ser de distintaos tipos de datos, las construimos colocando los elementos entre corchetes [] y separados por comas."
   ]
  },
  {
   "cell_type": "code",
   "execution_count": 159,
   "id": "f4ff2097",
   "metadata": {},
   "outputs": [
    {
     "name": "stdout",
     "output_type": "stream",
     "text": [
      "banana\n",
      "['pera', 'manzanas', 'banana', 'kiwi']\n",
      "['pera', 'durazno', 'banana', 'kiwi']\n",
      "['durazno', 'banana', 'kiwi']\n",
      "['banana', 'kiwi']\n",
      "2\n"
     ]
    }
   ],
   "source": [
    "listas_frutas = ['pera', 'manzanas', 'banana']\n",
    "\n",
    "#diferentes tipos de datos\n",
    "lista_boll = [True, False, True]\n",
    "lista_numeros = [1, 2, 3, 4]\n",
    "\n",
    "print(listas_frutas[2])\n",
    "\n",
    "#anhadir\n",
    "listas_frutas.append('kiwi')\n",
    "print(listas_frutas)\n",
    "\n",
    "#modificar\n",
    "listas_frutas[1] = 'durazno'\n",
    "print(listas_frutas)\n",
    "\n",
    "#eliminar un elemtno especifico\n",
    "listas_frutas.remove('pera')\n",
    "print(listas_frutas)\n",
    "\n",
    "#elimar un elemnto por indice\n",
    "listas_frutas.pop(0)\n",
    "print(listas_frutas)\n",
    "\n",
    "#contar elementos de la lista\n",
    "print(len(listas_frutas))\n"
   ]
  },
  {
   "cell_type": "markdown",
   "id": "4315bea5",
   "metadata": {},
   "source": [
    "## CHALLENGE\n",
    "\n",
    "Crear una lista de 5 elementos. Luego, seguir los siguientes pasos.\n",
    "\n",
    "Agregar un elemento al final de la lista.\n",
    "\n",
    "Modificar el segundo elemento.\n",
    "\n",
    "Eliminar el tercer elemento."
   ]
  },
  {
   "cell_type": "code",
   "execution_count": 167,
   "id": "de469a65",
   "metadata": {},
   "outputs": [
    {
     "name": "stdout",
     "output_type": "stream",
     "text": [
      "['ovidio', 'raul', 'carlos', 'luis', 'pablo', 'esteban']\n",
      "['ovidio', 'pepito', 'carlos', 'luis', 'pablo', 'esteban']\n",
      "['ovidio', 'pepito', 'luis', 'pablo', 'esteban']\n"
     ]
    }
   ],
   "source": [
    "lista_nombres = ['ovidio', 'raul', 'carlos', 'luis', 'pablo']\n",
    "\n",
    "lista_nombres.append('esteban')\n",
    "print(lista_nombres)\n",
    "\n",
    "lista_nombres[1] = 'pepito'\n",
    "print(lista_nombres)\n",
    "\n",
    "lista_nombres.pop(2)\n",
    "print(lista_nombres)"
   ]
  },
  {
   "cell_type": "markdown",
   "id": "3ae54da2",
   "metadata": {},
   "source": [
    "## BUCLE\n",
    "Cuando queremos repetir una accion una cierta cantiada de veces, podemos utilizar un bucle interactivo.\n",
    "\n",
    "ITERACION:una accion repetida una cierta cantidad de veces, pero en cada repeticion se tiene en cuenta el valor anterior."
   ]
  },
  {
   "cell_type": "code",
   "execution_count": 176,
   "id": "8e0c74bd",
   "metadata": {},
   "outputs": [
    {
     "name": "stdout",
     "output_type": "stream",
     "text": [
      "dia: 1\n",
      "dia: 2\n",
      "dia: 3\n",
      "dia: 4\n",
      "dia: 5\n",
      "dia: 6\n",
      "dia: 7\n"
     ]
    }
   ],
   "source": [
    "dias_de_la_semana = [1,2,3,4,5,6,7]\n",
    "for i in dias_de_la_semana:\n",
    "    print(f'dia: {i}')"
   ]
  },
  {
   "cell_type": "code",
   "execution_count": 172,
   "id": "13e73998",
   "metadata": {},
   "outputs": [
    {
     "name": "stdout",
     "output_type": "stream",
     "text": [
      "hola buen dia\n",
      "hola buen dia\n"
     ]
    }
   ],
   "source": [
    "for i in range(2):\n",
    "    print('hola buen dia')"
   ]
  },
  {
   "cell_type": "code",
   "execution_count": 180,
   "id": "c4094944",
   "metadata": {},
   "outputs": [
    {
     "name": "stdout",
     "output_type": "stream",
     "text": [
      "ovidio\n",
      "raul\n",
      "carlos\n",
      "luis\n",
      "pablo\n"
     ]
    }
   ],
   "source": [
    "lista_nombres = ['ovidio', 'raul', 'carlos', 'luis', 'pablo']\n",
    "for usuario in lista_nombres:\n",
    "    print(usuario)"
   ]
  },
  {
   "cell_type": "markdown",
   "id": "8d2221d0",
   "metadata": {},
   "source": [
    "## CHALLENGE"
   ]
  },
  {
   "cell_type": "code",
   "execution_count": 194,
   "id": "8840c004",
   "metadata": {},
   "outputs": [
    {
     "name": "stdout",
     "output_type": "stream",
     "text": [
      "0\n",
      "2\n",
      "4\n",
      "6\n",
      "8\n",
      "10\n",
      "12\n",
      "14\n",
      "16\n",
      "18\n"
     ]
    }
   ],
   "source": [
    "## Escribir un programa que itere en un rango de 10 veces. Por cada iteracion multiplicar el iterador por dos e imprimir el resultado.\n",
    "\n",
    "for numero in range(10):\n",
    "    print(numero *2)"
   ]
  },
  {
   "cell_type": "markdown",
   "id": "ae7cf7d3",
   "metadata": {},
   "source": [
    "# CHALLENGE\n"
   ]
  },
  {
   "cell_type": "code",
   "execution_count": 12,
   "id": "b6690f64",
   "metadata": {},
   "outputs": [
    {
     "name": "stdout",
     "output_type": "stream",
     "text": [
      "DIADORA\n",
      "AEROSPOSTALE\n",
      "LULULEMON\n",
      "HERMES\n"
     ]
    }
   ],
   "source": [
    "marcas_ropas = ['ZARA', 'NIKE', 'DIADORA', 'AEROSPOSTALE', 'LULULEMON', 'HERMES']\n",
    "for marcas in marcas_ropas:\n",
    "    if len(marcas) >= 6:\n",
    "        print(marcas)\n",
    "    \n",
    "\n"
   ]
  },
  {
   "cell_type": "markdown",
   "id": "e580d0ca",
   "metadata": {},
   "source": [
    "## CHALLENGE"
   ]
  },
  {
   "cell_type": "code",
   "execution_count": 53,
   "id": "d657babc",
   "metadata": {},
   "outputs": [
    {
     "name": "stdout",
     "output_type": "stream",
     "text": [
      "La cantidad de veces que aprece  5\n"
     ]
    }
   ],
   "source": [
    "#Recorrer los elementos de una lista de marcas e imprimir cada marca solamente si tiene 6 letras o más.\n",
    "\n",
    "frases_celebres = input('Dime una frase celebre para contar las letras O')\n",
    "contador = 0\n",
    "for frases in frases_celebres:\n",
    "    if frases == 'o' or frases == 'O':\n",
    "        contador += 1\n",
    "\n",
    "print(f'La cantidad de veces que aprece  {contador}')\n",
    "\n",
    "    "
   ]
  }
 ],
 "metadata": {
  "kernelspec": {
   "display_name": "Python 3",
   "language": "python",
   "name": "python3"
  },
  "language_info": {
   "codemirror_mode": {
    "name": "ipython",
    "version": 3
   },
   "file_extension": ".py",
   "mimetype": "text/x-python",
   "name": "python",
   "nbconvert_exporter": "python",
   "pygments_lexer": "ipython3",
   "version": "3.13.3"
  }
 },
 "nbformat": 4,
 "nbformat_minor": 5
}
